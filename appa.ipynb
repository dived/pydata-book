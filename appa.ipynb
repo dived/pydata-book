{
 "cells": [
  {
   "cell_type": "markdown",
   "metadata": {},
   "source": [
    "# Advanced NumPy Numpy高级应用"
   ]
  },
  {
   "cell_type": "code",
   "execution_count": 1,
   "metadata": {},
   "outputs": [],
   "source": [
    "import numpy as np\n",
    "import pandas as pd\n",
    "np.random.seed(12345)\n",
    "import matplotlib.pyplot as plt\n",
    "plt.rc('figure', figsize=(10, 6))\n",
    "PREVIOUS_MAX_ROWS = pd.options.display.max_rows\n",
    "pd.options.display.max_rows = 20\n",
    "np.set_printoptions(precision=4, suppress=True)\n",
    "plt.show()"
   ]
  },
  {
   "cell_type": "markdown",
   "metadata": {},
   "source": [
    "## ndarray Object Internals"
   ]
  },
  {
   "cell_type": "code",
   "execution_count": 22,
   "metadata": {},
   "outputs": [
    {
     "name": "stdout",
     "output_type": "stream",
     "text": [
      "[[1. 1. 1. 1. 1.]\n",
      " [1. 1. 1. 1. 1.]\n",
      " [1. 1. 1. 1. 1.]\n",
      " [1. 1. 1. 1. 1.]\n",
      " [1. 1. 1. 1. 1.]\n",
      " [1. 1. 1. 1. 1.]\n",
      " [1. 1. 1. 1. 1.]\n",
      " [1. 1. 1. 1. 1.]\n",
      " [1. 1. 1. 1. 1.]\n",
      " [1. 1. 1. 1. 1.]]\n"
     ]
    }
   ],
   "source": [
    "np.ones((10, 5)).shape\n",
    "print(np.ones((10, 5)))"
   ]
  },
  {
   "cell_type": "code",
   "execution_count": 2,
   "metadata": {},
   "outputs": [
    {
     "data": {
      "text/plain": [
       "(160, 40, 8)"
      ]
     },
     "execution_count": 2,
     "metadata": {},
     "output_type": "execute_result"
    }
   ],
   "source": [
    "np.ones((3, 4, 5), dtype=np.float64).strides\n",
    "#跨度元祖stride 前进到当前维度下一个元素需要‘跨过’的字节\n",
    "#分别是[4*5*8(8个字节), 5*8 ,8]"
   ]
  },
  {
   "cell_type": "markdown",
   "metadata": {},
   "source": [
    "### NumPy dtype Hierarchy numpy数据类型体系"
   ]
  },
  {
   "cell_type": "code",
   "execution_count": 5,
   "metadata": {},
   "outputs": [
    {
     "data": {
      "text/plain": [
       "True"
      ]
     },
     "execution_count": 5,
     "metadata": {},
     "output_type": "execute_result"
    }
   ],
   "source": [
    "ints = np.ones(10, dtype=np.uint16)\n",
    "floats = np.ones(10, dtype=np.float32)\n",
    "np.issubdtype(ints.dtype, np.integer)\n",
    "np.issubdtype(floats.dtype, np.floating)"
   ]
  },
  {
   "cell_type": "code",
   "execution_count": 3,
   "metadata": {},
   "outputs": [
    {
     "data": {
      "text/plain": [
       "[numpy.float64,\n",
       " numpy.floating,\n",
       " numpy.inexact,\n",
       " numpy.number,\n",
       " numpy.generic,\n",
       " float,\n",
       " object]"
      ]
     },
     "execution_count": 3,
     "metadata": {},
     "output_type": "execute_result"
    }
   ],
   "source": [
    "np.float64.mro()"
   ]
  },
  {
   "cell_type": "code",
   "execution_count": 6,
   "metadata": {},
   "outputs": [
    {
     "data": {
      "text/plain": [
       "[numpy.uint16,\n",
       " numpy.unsignedinteger,\n",
       " numpy.integer,\n",
       " numpy.number,\n",
       " numpy.generic,\n",
       " object]"
      ]
     },
     "execution_count": 6,
     "metadata": {},
     "output_type": "execute_result"
    }
   ],
   "source": [
    "np.uint16.mro()"
   ]
  },
  {
   "cell_type": "code",
   "execution_count": 12,
   "metadata": {},
   "outputs": [
    {
     "name": "stdout",
     "output_type": "stream",
     "text": [
      "True\n",
      "False\n"
     ]
    },
    {
     "data": {
      "text/plain": [
       "True"
      ]
     },
     "execution_count": 12,
     "metadata": {},
     "output_type": "execute_result"
    }
   ],
   "source": [
    "print(np.issubdtype(ints.dtype, np.number))\n",
    "print(np.issubdtype(ints.dtype, object))\n",
    "np.issubdtype(ints.dtype, np.generic)"
   ]
  },
  {
   "cell_type": "markdown",
   "metadata": {},
   "source": [
    "## Advanced Array Manipulation 高级数组操作"
   ]
  },
  {
   "cell_type": "markdown",
   "metadata": {},
   "source": [
    "### Reshaping Arrays 数组重塑"
   ]
  },
  {
   "cell_type": "code",
   "execution_count": 13,
   "metadata": {},
   "outputs": [
    {
     "data": {
      "text/plain": [
       "array([[0, 1],\n",
       "       [2, 3],\n",
       "       [4, 5],\n",
       "       [6, 7]])"
      ]
     },
     "execution_count": 13,
     "metadata": {},
     "output_type": "execute_result"
    }
   ],
   "source": [
    "arr = np.arange(8)\n",
    "arr\n",
    "arr.reshape((4, 2))"
   ]
  },
  {
   "cell_type": "code",
   "execution_count": 17,
   "metadata": {},
   "outputs": [
    {
     "name": "stdout",
     "output_type": "stream",
     "text": [
      "[[0 1 2 3]\n",
      " [4 5 6 7]]\n"
     ]
    }
   ],
   "source": [
    "print(arr.reshape((4, 2)).reshape((2, 4)))"
   ]
  },
  {
   "cell_type": "code",
   "execution_count": 19,
   "metadata": {},
   "outputs": [
    {
     "name": "stdout",
     "output_type": "stream",
     "text": [
      "[[ 0  1  2]\n",
      " [ 3  4  5]\n",
      " [ 6  7  8]\n",
      " [ 9 10 11]]\n"
     ]
    },
    {
     "data": {
      "text/plain": [
       "array([[ 0,  4,  8],\n",
       "       [ 1,  5,  9],\n",
       "       [ 2,  6, 10],\n",
       "       [ 3,  7, 11]])"
      ]
     },
     "execution_count": 19,
     "metadata": {},
     "output_type": "execute_result"
    }
   ],
   "source": [
    "arr = np.arange(12)\n",
    "print(arr.reshape((4,3), order=\"C\")) #默认C order\n",
    "arr.reshape((4,3), order=\"F\") #可选Fortran"
   ]
  },
  {
   "cell_type": "code",
   "execution_count": 26,
   "metadata": {},
   "outputs": [
    {
     "data": {
      "text/plain": [
       "array([[[ 0,  1,  2],\n",
       "        [ 3,  4,  5],\n",
       "        [ 6,  7,  8],\n",
       "        [ 9, 10, 11],\n",
       "        [12, 13, 14]]])"
      ]
     },
     "execution_count": 26,
     "metadata": {},
     "output_type": "execute_result"
    }
   ],
   "source": [
    "arr = np.arange(15)\n",
    "arr.reshape((1,-4, 3)) # 可以给一个维度任意负值，数据自己会判断维度大小"
   ]
  },
  {
   "cell_type": "code",
   "execution_count": 27,
   "metadata": {},
   "outputs": [
    {
     "name": "stdout",
     "output_type": "stream",
     "text": [
      "(3, 5)\n"
     ]
    },
    {
     "data": {
      "text/plain": [
       "array([[ 0,  1,  2,  3,  4],\n",
       "       [ 5,  6,  7,  8,  9],\n",
       "       [10, 11, 12, 13, 14]])"
      ]
     },
     "execution_count": 27,
     "metadata": {},
     "output_type": "execute_result"
    }
   ],
   "source": [
    "other_arr = np.ones((3, 5))\n",
    "print(other_arr.shape)\n",
    "arr.reshape(other_arr.shape)"
   ]
  },
  {
   "cell_type": "code",
   "execution_count": 47,
   "metadata": {},
   "outputs": [
    {
     "name": "stdout",
     "output_type": "stream",
     "text": [
      "[[ 0  1  2]\n",
      " [ 3  4  5]\n",
      " [ 6  7  8]\n",
      " [ 9 10 11]\n",
      " [12 13 14]]\n",
      "[[ 0  1  2]\n",
      " [ 3  4  5]\n",
      " [ 6  7  8]\n",
      " [ 9 10 11]\n",
      " [12 13 14]] [100   3   6   9  12   1   4   7  10  13   2   5   8  11  14]\n",
      "[[100   1   2]\n",
      " [  3   4   5]\n",
      " [  6   7   8]\n",
      " [  9  10  11]\n",
      " [ 12  13  14]] [100   1   2   3   4   5   6   7   8   9  10  11  12  13  14]\n"
     ]
    }
   ],
   "source": [
    "arr = np.arange(15).reshape((5, 3))\n",
    "print(arr)\n",
    "f = arr.flatten('F') # 扁平 副本\n",
    "f[0] = 100\n",
    "print(arr,f)\n",
    "r = arr.ravel()#散开 返回源数组的视图\n",
    "r[0] = 100\n",
    "print(arr,r)\n"
   ]
  },
  {
   "cell_type": "markdown",
   "metadata": {},
   "source": [
    "### C Versus Fortran Order C和Fortran顺序"
   ]
  },
  {
   "cell_type": "code",
   "execution_count": null,
   "metadata": {},
   "outputs": [],
   "source": [
    "arr = np.arange(12).reshape((3, 4))\n",
    "arr\n",
    "arr.ravel()\n",
    "arr.ravel('F')"
   ]
  },
  {
   "cell_type": "markdown",
   "metadata": {},
   "source": [
    "### Concatenating and Splitting Arrays 数组的合并和拆分"
   ]
  },
  {
   "cell_type": "code",
   "execution_count": 48,
   "metadata": {},
   "outputs": [
    {
     "name": "stdout",
     "output_type": "stream",
     "text": [
      "[[ 1  2  3]\n",
      " [ 4  5  6]\n",
      " [ 7  8  9]\n",
      " [10 11 12]]\n"
     ]
    },
    {
     "data": {
      "text/plain": [
       "array([[ 1,  2,  3,  7,  8,  9],\n",
       "       [ 4,  5,  6, 10, 11, 12]])"
      ]
     },
     "execution_count": 48,
     "metadata": {},
     "output_type": "execute_result"
    }
   ],
   "source": [
    "arr1 = np.array([[1, 2, 3], [4, 5, 6]])\n",
    "arr2 = np.array([[7, 8, 9], [10, 11, 12]])\n",
    "print(np.concatenate([arr1, arr2], axis=0))\n",
    "np.concatenate([arr1, arr2], axis=1)"
   ]
  },
  {
   "cell_type": "code",
   "execution_count": 49,
   "metadata": {},
   "outputs": [
    {
     "name": "stdout",
     "output_type": "stream",
     "text": [
      "[[ 1  2  3]\n",
      " [ 4  5  6]\n",
      " [ 7  8  9]\n",
      " [10 11 12]]\n"
     ]
    },
    {
     "data": {
      "text/plain": [
       "array([[ 1,  2,  3,  7,  8,  9],\n",
       "       [ 4,  5,  6, 10, 11, 12]])"
      ]
     },
     "execution_count": 49,
     "metadata": {},
     "output_type": "execute_result"
    }
   ],
   "source": [
    "print(np.vstack((arr1, arr2)))\n",
    "np.hstack((arr1, arr2))"
   ]
  },
  {
   "cell_type": "code",
   "execution_count": 51,
   "metadata": {},
   "outputs": [
    {
     "data": {
      "text/plain": [
       "array([1, 2, 3, 4, 5, 6])"
      ]
     },
     "execution_count": 51,
     "metadata": {},
     "output_type": "execute_result"
    }
   ],
   "source": [
    "np.hstack(arr1)"
   ]
  },
  {
   "cell_type": "code",
   "execution_count": 71,
   "metadata": {
    "tags": []
   },
   "outputs": [
    {
     "name": "stdout",
     "output_type": "stream",
     "text": [
      "[[-0.4003  0.4499  0.3996 -0.1516 -2.5579  0.1608  0.0765]\n",
      " [-0.2972 -1.2943 -0.8852 -0.1875 -0.4936 -0.1154 -0.3507]\n",
      " [ 0.0447 -0.8978  0.8909 -1.1512 -2.6123  1.1413 -0.8671]\n",
      " [ 0.3836 -0.437   0.3475 -1.2302  0.5711  0.0601 -0.2255]\n",
      " [ 1.3497  1.3503 -0.3867  0.866   1.7472 -1.4102 -0.3782]\n",
      " [-0.3458  0.3801  0.189   1.3233 -2.2646 -0.915  -0.479 ]\n",
      " [ 1.0472  0.9239 -0.1142  0.4058  0.2885 -0.4348  0.3588]]\n"
     ]
    },
    {
     "data": {
      "text/plain": [
       "[array([[-0.4003,  0.4499,  0.3996, -0.1516, -2.5579,  0.1608,  0.0765],\n",
       "        [-0.2972, -1.2943, -0.8852, -0.1875, -0.4936, -0.1154, -0.3507]]),\n",
       " array([[ 0.0447, -0.8978,  0.8909, -1.1512, -2.6123,  1.1413, -0.8671],\n",
       "        [ 0.3836, -0.437 ,  0.3475, -1.2302,  0.5711,  0.0601, -0.2255]]),\n",
       " array([[ 1.3497,  1.3503, -0.3867,  0.866 ,  1.7472, -1.4102, -0.3782],\n",
       "        [-0.3458,  0.3801,  0.189 ,  1.3233, -2.2646, -0.915 , -0.479 ]]),\n",
       " array([[ 1.0472,  0.9239, -0.1142,  0.4058,  0.2885, -0.4348,  0.3588]])]"
      ]
     },
     "execution_count": 71,
     "metadata": {},
     "output_type": "execute_result"
    }
   ],
   "source": [
    "arr = np.random.randn(7, 7)\n",
    "print(arr)\n",
    "al = np.split(arr, [2,4,6])\n",
    "# first, second, third = np.split(arr, [1, 3]) #0, [1:3], [3:5]\n",
    "# first,second,third\n",
    "al\n",
    "# np.split?"
   ]
  },
  {
   "cell_type": "markdown",
   "metadata": {},
   "source": [
    "#### Stacking helpers: r_ and c_ 堆叠辅助类：r和c"
   ]
  },
  {
   "cell_type": "code",
   "execution_count": 72,
   "metadata": {
    "tags": []
   },
   "outputs": [
    {
     "name": "stdout",
     "output_type": "stream",
     "text": [
      "[[ 0.      1.    ]\n",
      " [ 2.      3.    ]\n",
      " [ 4.      5.    ]\n",
      " [-0.3882  2.1287]\n",
      " [ 1.4096 -0.1054]\n",
      " [ 0.7004  2.0929]]\n"
     ]
    },
    {
     "data": {
      "text/plain": [
       "array([[ 0.    ,  1.    ,  0.    ],\n",
       "       [ 2.    ,  3.    ,  1.    ],\n",
       "       [ 4.    ,  5.    ,  2.    ],\n",
       "       [-0.3882,  2.1287,  3.    ],\n",
       "       [ 1.4096, -0.1054,  4.    ],\n",
       "       [ 0.7004,  2.0929,  5.    ]])"
      ]
     },
     "execution_count": 72,
     "metadata": {},
     "output_type": "execute_result"
    }
   ],
   "source": [
    "arr = np.arange(6)\n",
    "arr1 = arr.reshape((3, 2))\n",
    "arr2 = np.random.randn(3, 2)\n",
    "print(np.r_[arr1, arr2])    np.vstack((arr1, arr2))\n",
    "np.c_[np.r_[arr1, arr2], arr] #np.hstack((ts, arr.reshape(6,1)))"
   ]
  },
  {
   "cell_type": "code",
   "execution_count": 113,
   "metadata": {},
   "outputs": [
    {
     "data": {
      "text/plain": [
       "array([[1],\n",
       "       [2],\n",
       "       [3]])"
      ]
     },
     "execution_count": 113,
     "metadata": {},
     "output_type": "execute_result"
    }
   ],
   "source": [
    "np.c_[np.array([1,2,3])] #可以将(3,) 转化成(1,3)"
   ]
  },
  {
   "cell_type": "code",
   "execution_count": 104,
   "metadata": {},
   "outputs": [
    {
     "ename": "SyntaxError",
     "evalue": "invalid syntax (<ipython-input-104-fb4390c47111>, line 1)",
     "output_type": "error",
     "traceback": [
      "\u001b[1;36m  File \u001b[1;32m\"<ipython-input-104-fb4390c47111>\"\u001b[1;36m, line \u001b[1;32m1\u001b[0m\n\u001b[1;33m    np.hstack([1:6, -10:-5])\u001b[0m\n\u001b[1;37m                ^\u001b[0m\n\u001b[1;31mSyntaxError\u001b[0m\u001b[1;31m:\u001b[0m invalid syntax\n"
     ]
    }
   ],
   "source": [
    "\n",
    "# np.hstack([1:6, -10:-5])\n",
    "np.c_[1:6, -10:-5] "
   ]
  },
  {
   "cell_type": "markdown",
   "metadata": {},
   "source": [
    "### Repeating Elements: tile and repeat 元素的重复操作：tile和repeat"
   ]
  },
  {
   "cell_type": "code",
   "execution_count": 121,
   "metadata": {},
   "outputs": [
    {
     "data": {
      "text/plain": [
       "(array([0, 1, 2]), array([0, 3, 6]), array([0, 0, 0, 1, 1, 1, 2, 2, 2]))"
      ]
     },
     "execution_count": 121,
     "metadata": {},
     "output_type": "execute_result"
    }
   ],
   "source": [
    "arr = np.arange(3)\n",
    "# arr.repeat(3)\n",
    "arr, arr*3, arr.repeat(3)"
   ]
  },
  {
   "cell_type": "code",
   "execution_count": 120,
   "metadata": {},
   "outputs": [
    {
     "data": {
      "text/plain": [
       "array([0, 0, 1, 1, 1, 2, 2, 2, 2])"
      ]
     },
     "execution_count": 120,
     "metadata": {},
     "output_type": "execute_result"
    }
   ],
   "source": [
    "arr.repeat([2, 3, 4])"
   ]
  },
  {
   "cell_type": "code",
   "execution_count": 127,
   "metadata": {},
   "outputs": [
    {
     "name": "stdout",
     "output_type": "stream",
     "text": [
      "[[-1.4957 -1.1749]\n",
      " [ 2.614  -0.6893]]\n"
     ]
    },
    {
     "data": {
      "text/plain": [
       "\u001b[1;31mDocstring:\u001b[0m\n",
       "a.repeat(repeats, axis=None)\n",
       "\n",
       "Repeat elements of an array.\n",
       "\n",
       "Refer to `numpy.repeat` for full documentation.\n",
       "\n",
       "See Also\n",
       "--------\n",
       "numpy.repeat : equivalent function\n",
       "\u001b[1;31mType:\u001b[0m      builtin_function_or_method\n"
      ]
     },
     "metadata": {},
     "output_type": "display_data"
    }
   ],
   "source": [
    "arr = np.random.randn(2, 2)\n",
    "print(arr)\n",
    "arr.repeat(2), arr.repeat(2, axis=0) #axis不设置就扁平化了 因为默认是None不是0"
   ]
  },
  {
   "cell_type": "code",
   "execution_count": 125,
   "metadata": {},
   "outputs": [
    {
     "data": {
      "text/plain": [
       "(array([[-0.137 , -0.9305],\n",
       "        [-0.137 , -0.9305],\n",
       "        [ 0.3275,  1.303 ],\n",
       "        [ 0.3275,  1.303 ],\n",
       "        [ 0.3275,  1.303 ]]),\n",
       " array([[-0.137 , -0.137 , -0.9305, -0.9305, -0.9305],\n",
       "        [ 0.3275,  0.3275,  1.303 ,  1.303 ,  1.303 ]]))"
      ]
     },
     "execution_count": 125,
     "metadata": {},
     "output_type": "execute_result"
    }
   ],
   "source": [
    "arr.repeat([2, 3], axis=0), arr.repeat([2, 3], axis=1)"
   ]
  },
  {
   "cell_type": "code",
   "execution_count": 134,
   "metadata": {},
   "outputs": [
    {
     "data": {
      "text/plain": [
       "(array([[-1.4957, -1.1749],\n",
       "        [ 2.614 , -0.6893]]),\n",
       " array([[-1.4957, -1.1749, -1.4957, -1.1749],\n",
       "        [ 2.614 , -0.6893,  2.614 , -0.6893]]),\n",
       " array([[-1.4957, -1.1749, -1.4957, -1.1749],\n",
       "        [ 2.614 , -0.6893,  2.614 , -0.6893]]))"
      ]
     },
     "execution_count": 134,
     "metadata": {},
     "output_type": "execute_result"
    }
   ],
   "source": [
    "arr, np.tile(arr, 2) , np.tile(arr, (1,2))  #奇怪吧"
   ]
  },
  {
   "cell_type": "code",
   "execution_count": 133,
   "metadata": {},
   "outputs": [
    {
     "data": {
      "text/plain": [
       "(array([[-1.4957, -1.1749],\n",
       "        [ 2.614 , -0.6893]]),\n",
       " array([[-1.4957, -1.1749],\n",
       "        [ 2.614 , -0.6893],\n",
       "        [-1.4957, -1.1749],\n",
       "        [ 2.614 , -0.6893]]),\n",
       " array([[-1.4957, -1.1749, -1.4957, -1.1749],\n",
       "        [ 2.614 , -0.6893,  2.614 , -0.6893],\n",
       "        [-1.4957, -1.1749, -1.4957, -1.1749],\n",
       "        [ 2.614 , -0.6893,  2.614 , -0.6893],\n",
       "        [-1.4957, -1.1749, -1.4957, -1.1749],\n",
       "        [ 2.614 , -0.6893,  2.614 , -0.6893]]))"
      ]
     },
     "execution_count": 133,
     "metadata": {},
     "output_type": "execute_result"
    }
   ],
   "source": [
    "arr,       np.tile(arr, (2, 1)),       np.tile(arr, (3, 2))"
   ]
  },
  {
   "cell_type": "markdown",
   "metadata": {},
   "source": [
    "### Fancy Indexing Equivalents: take and put 花式索引的等价函数：take和put"
   ]
  },
  {
   "cell_type": "code",
   "execution_count": 136,
   "metadata": {},
   "outputs": [
    {
     "data": {
      "text/plain": [
       "(array([  0, 100, 200, 300, 400, 500, 600, 700, 800, 900]),\n",
       " array([700, 100, 200, 600]))"
      ]
     },
     "execution_count": 136,
     "metadata": {},
     "output_type": "execute_result"
    }
   ],
   "source": [
    "arr = np.arange(10) * 100\n",
    "inds = [7, 1, 2, 6]\n",
    "arr, arr[inds]"
   ]
  },
  {
   "cell_type": "code",
   "execution_count": 138,
   "metadata": {},
   "outputs": [
    {
     "name": "stdout",
     "output_type": "stream",
     "text": [
      "[  0  42  42 300 400 500  42  42 800 900]\n"
     ]
    },
    {
     "data": {
      "text/plain": [
       "array([  0,  41,  42, 300, 400, 500,  43,  40, 800, 900])"
      ]
     },
     "execution_count": 138,
     "metadata": {},
     "output_type": "execute_result"
    }
   ],
   "source": [
    "arr.take(inds)\n",
    "#array([700, 100, 200, 600])\n",
    "arr.put(inds, 42)\n",
    "print(arr)#array([  0, 42, 42, 300, 400, 500, 42, 42, 800, 900])\n",
    "arr.put(inds, [40, 41, 42, 43])\n",
    "arr       #array([  0, 41, 42, 300, 400, 500, 43, 40, 800, 900])"
   ]
  },
  {
   "cell_type": "code",
   "execution_count": 144,
   "metadata": {},
   "outputs": [
    {
     "data": {
      "text/plain": [
       "(array([[-1.0266,  1.2416, -0.1568, -2.4491],\n",
       "        [-1.0339,  1.5995,  0.4741,  0.1513]]),\n",
       " array([[-0.1568, -1.0266, -0.1568,  1.2416],\n",
       "        [ 0.4741, -1.0339,  0.4741,  1.5995]]),\n",
       " array([-0.1568, -1.0266, -0.1568,  1.2416]))"
      ]
     },
     "execution_count": 144,
     "metadata": {},
     "output_type": "execute_result"
    }
   ],
   "source": [
    "inds = [2, 0, 2, 1]\n",
    "arr = np.random.randn(2, 4)\n",
    "arr,   arr.take(inds, axis=1),   arr.take(inds) #这里axis是None"
   ]
  },
  {
   "cell_type": "markdown",
   "metadata": {},
   "source": [
    "## Broadcasting 广播\n",
    "广播（broadcasting）指的是不同形状的数组之间的算术运算的执行方式。它是一 种非常强大的功能，但也容易令人误解，即使是经验丰富的老手也是如此。将标量 值跟数组合并时就会发生最简单的广播"
   ]
  },
  {
   "cell_type": "code",
   "execution_count": 145,
   "metadata": {},
   "outputs": [
    {
     "data": {
      "text/plain": [
       "array([ 0,  4,  8, 12, 16])"
      ]
     },
     "execution_count": 145,
     "metadata": {},
     "output_type": "execute_result"
    }
   ],
   "source": [
    "arr = np.arange(5)\n",
    "arr\n",
    "arr * 4"
   ]
  },
  {
   "cell_type": "code",
   "execution_count": 165,
   "metadata": {},
   "outputs": [
    {
     "name": "stdout",
     "output_type": "stream",
     "text": [
      "[[ 0.4008 -1.9462  0.505 ]\n",
      " [-0.9105 -0.2197  0.4081]\n",
      " [-0.6031 -0.3611  0.564 ]\n",
      " [-1.0566  1.392  -1.7613]] [-0.5424 -0.2838 -0.071 ] (3,)\n"
     ]
    },
    {
     "data": {
      "text/plain": [
       "(array([[ 0.9432, -1.6625,  0.5761],\n",
       "        [-0.3681,  0.0641,  0.4791],\n",
       "        [-0.0608, -0.0774,  0.6351],\n",
       "        [-0.5143,  1.6757, -1.6902]]),\n",
       " array([ 0., -0.,  0.]))"
      ]
     },
     "execution_count": 165,
     "metadata": {},
     "output_type": "execute_result"
    }
   ],
   "source": [
    "arr = np.random.randn(4, 3)\n",
    "print(arr, arr.mean(0), arr.mean(0).shape)\n",
    "demeaned = arr - arr.mean(0)#增加.reshape(1,3)也可以\n",
    "demeaned, demeaned.mean(0)"
   ]
  },
  {
   "cell_type": "code",
   "execution_count": 168,
   "metadata": {},
   "outputs": [
    {
     "name": "stdout",
     "output_type": "stream",
     "text": [
      "[[ 0.4008 -1.9462  0.505 ]\n",
      " [-0.9105 -0.2197  0.4081]\n",
      " [-0.6031 -0.3611  0.564 ]\n",
      " [-1.0566  1.392  -1.7613]]\n",
      "[-0.3468 -0.2407 -0.1334 -0.4753] (4,) [[-0.3468]\n",
      " [-0.2407]\n",
      " [-0.1334]\n",
      " [-0.4753]] [[-0.3468]\n",
      " [-0.2407]\n",
      " [-0.1334]\n",
      " [-0.4753]] True [[ True]\n",
      " [ True]\n",
      " [ True]\n",
      " [ True]]\n"
     ]
    },
    {
     "data": {
      "text/plain": [
       "(array([[ 0.7476, -1.5994,  0.8518],\n",
       "        [-0.6698,  0.021 ,  0.6488],\n",
       "        [-0.4697, -0.2277,  0.6974],\n",
       "        [-0.5813,  1.8673, -1.286 ]]),\n",
       " array([ 0.,  0., -0., -0.]))"
      ]
     },
     "execution_count": 168,
     "metadata": {},
     "output_type": "execute_result"
    }
   ],
   "source": [
    "print(arr)\n",
    "row_means = arr.mean(1)\n",
    "print(row_means, \n",
    "      row_means.shape, \n",
    "      row_means.reshape((4, 1)),\n",
    "      np.c_[row_means],\n",
    "      np.c_[row_means].shape == row_means.reshape((4, 1)).shape,\n",
    "      np.c_[row_means] == row_means.reshape((4, 1)) #这两个情况相等\n",
    "     )\n",
    "demeaned = arr - row_means.reshape((4, 1))\n",
    "demeaned, demeaned.mean(1)"
   ]
  },
  {
   "cell_type": "code",
   "execution_count": null,
   "metadata": {},
   "outputs": [],
   "source": [
    "(arr - np.c_[arr.mean(1)]).mean(1)"
   ]
  },
  {
   "cell_type": "markdown",
   "metadata": {},
   "source": [
    "### Broadcasting Over Other Axes 沿其它轴向广播"
   ]
  },
  {
   "cell_type": "code",
   "execution_count": 175,
   "metadata": {},
   "outputs": [
    {
     "data": {
      "text/plain": [
       "array([[0., 0., 0., 0.],\n",
       "       [0., 0., 0., 0.],\n",
       "       [0., 0., 0., 0.],\n",
       "       [0., 0., 0., 0.]])"
      ]
     },
     "execution_count": 175,
     "metadata": {},
     "output_type": "execute_result"
    }
   ],
   "source": [
    "arr = np.zeros((4, 4))\n",
    "arr"
   ]
  },
  {
   "cell_type": "code",
   "execution_count": 180,
   "metadata": {},
   "outputs": [
    {
     "data": {
      "text/plain": [
       "(array([[[0., 0., 0., 0.]],\n",
       " \n",
       "        [[0., 0., 0., 0.]],\n",
       " \n",
       "        [[0., 0., 0., 0.]],\n",
       " \n",
       "        [[0., 0., 0., 0.]]]),\n",
       " array([[[0.],\n",
       "         [0.],\n",
       "         [0.],\n",
       "         [0.]],\n",
       " \n",
       "        [[0.],\n",
       "         [0.],\n",
       "         [0.],\n",
       "         [0.]],\n",
       " \n",
       "        [[0.],\n",
       "         [0.],\n",
       "         [0.],\n",
       "         [0.]],\n",
       " \n",
       "        [[0.],\n",
       "         [0.],\n",
       "         [0.],\n",
       "         [0.]]]),\n",
       " array([[[0., 0., 0., 0.],\n",
       "         [0., 0., 0., 0.],\n",
       "         [0., 0., 0., 0.],\n",
       "         [0., 0., 0., 0.]]]))"
      ]
     },
     "execution_count": 180,
     "metadata": {},
     "output_type": "execute_result"
    }
   ],
   "source": [
    "arr_3d = arr[:, np.newaxis, :]\n",
    "\n",
    "arr_3d, arr[:,:,np.newaxis], arr[np.newaxis,:,:]"
   ]
  },
  {
   "cell_type": "code",
   "execution_count": 181,
   "metadata": {},
   "outputs": [
    {
     "data": {
      "text/plain": [
       "((4, 1, 4), (4, 4, 1), (1, 4, 4))"
      ]
     },
     "execution_count": 181,
     "metadata": {},
     "output_type": "execute_result"
    }
   ],
   "source": [
    "arr_3d.shape, arr[:,:,np.newaxis].shape, arr[np.newaxis,:,:].shape"
   ]
  },
  {
   "cell_type": "code",
   "execution_count": 190,
   "metadata": {},
   "outputs": [
    {
     "data": {
      "text/plain": [
       "(array([-0.9169, -0.0827, -1.9397]), (3,))"
      ]
     },
     "execution_count": 190,
     "metadata": {},
     "output_type": "execute_result"
    }
   ],
   "source": [
    "arr_1d = np.random.normal(size=3)\n",
    "arr_1d, arr_1d.shape"
   ]
  },
  {
   "cell_type": "code",
   "execution_count": 193,
   "metadata": {},
   "outputs": [
    {
     "data": {
      "text/plain": [
       "(array([[-0.9169],\n",
       "        [-0.0827],\n",
       "        [-1.9397]]),\n",
       " (3, 1),\n",
       " array([[-0.9169],\n",
       "        [-0.0827],\n",
       "        [-1.9397]]),\n",
       " array([-0.9169, -0.0827, -1.9397]))"
      ]
     },
     "execution_count": 193,
     "metadata": {},
     "output_type": "execute_result"
    }
   ],
   "source": [
    "arr_1d[:, np.newaxis], arr_1d[:, np.newaxis].shape, np.c_[arr_1d], np.r_[arr_1d]"
   ]
  },
  {
   "cell_type": "code",
   "execution_count": 192,
   "metadata": {},
   "outputs": [
    {
     "data": {
      "text/plain": [
       "(array([[-0.9169, -0.0827, -1.9397]]), (1, 3))"
      ]
     },
     "execution_count": 192,
     "metadata": {},
     "output_type": "execute_result"
    }
   ],
   "source": [
    "arr_1d[np.newaxis, :], arr_1d[np.newaxis, :].shape"
   ]
  },
  {
   "cell_type": "code",
   "execution_count": 196,
   "metadata": {},
   "outputs": [
    {
     "name": "stdout",
     "output_type": "stream",
     "text": [
      "[[[-0.4522  0.7582 -0.5156 -0.5912  0.8967]\n",
      "  [-0.9714  1.8408  0.1539 -0.2741 -1.7849]\n",
      "  [ 0.981  -0.8737 -1.0156 -0.4112  1.4656]\n",
      "  [-1.0062 -0.9021  0.7528 -0.4905 -0.5247]]\n",
      "\n",
      " [[-0.6992  0.3524  0.0681 -0.9303  0.8454]\n",
      "  [ 0.0165  0.845   1.8508  0.0221 -1.3692]\n",
      "  [ 0.8872  0.0143 -0.0742 -0.0486  1.235 ]\n",
      "  [-0.4333  1.391   0.8202 -0.2474  0.3023]]\n",
      "\n",
      " [[ 0.544  -0.9424 -1.2664  0.9372 -0.7201]\n",
      "  [-1.594  -0.3755 -0.9587  0.7943 -1.6051]\n",
      "  [ 0.5437  0.9252 -1.4696 -0.3996  1.4173]\n",
      "  [-0.8976  1.8448  1.2532 -1.4909 -0.0277]]]\n"
     ]
    },
    {
     "data": {
      "text/plain": [
       "(array([[ 0.0192, -0.2072,  0.0292, -0.4342],\n",
       "        [-0.0727,  0.273 ,  0.4028,  0.3666],\n",
       "        [-0.2895, -0.7478,  0.2034,  0.1363]]),\n",
       " (3, 4))"
      ]
     },
     "execution_count": 196,
     "metadata": {},
     "output_type": "execute_result"
    }
   ],
   "source": [
    "arr = np.random.randn(3, 4, 5)\n",
    "print(arr)\n",
    "depth_means = arr.mean(2)\n",
    "depth_means,  depth_means.shape\n",
    "#(-0.4522 + 0.7582 -0.5156 -0.5912 + 0.8967)/5"
   ]
  },
  {
   "cell_type": "code",
   "execution_count": 204,
   "metadata": {},
   "outputs": [
    {
     "name": "stdout",
     "output_type": "stream",
     "text": [
      "[[[-0.4522  0.7582 -0.5156 -0.5912  0.8967]\n",
      "  [-0.9714  1.8408  0.1539 -0.2741 -1.7849]\n",
      "  [ 0.981  -0.8737 -1.0156 -0.4112  1.4656]\n",
      "  [-1.0062 -0.9021  0.7528 -0.4905 -0.5247]]\n",
      "\n",
      " [[-0.6992  0.3524  0.0681 -0.9303  0.8454]\n",
      "  [ 0.0165  0.845   1.8508  0.0221 -1.3692]\n",
      "  [ 0.8872  0.0143 -0.0742 -0.0486  1.235 ]\n",
      "  [-0.4333  1.391   0.8202 -0.2474  0.3023]]\n",
      "\n",
      " [[ 0.544  -0.9424 -1.2664  0.9372 -0.7201]\n",
      "  [-1.594  -0.3755 -0.9587  0.7943 -1.6051]\n",
      "  [ 0.5437  0.9252 -1.4696 -0.3996  1.4173]\n",
      "  [-0.8976  1.8448  1.2532 -1.4909 -0.0277]]]\n",
      "[[[ 0.0192]\n",
      "  [-0.2072]\n",
      "  [ 0.0292]\n",
      "  [-0.4342]]\n",
      "\n",
      " [[-0.0727]\n",
      "  [ 0.273 ]\n",
      "  [ 0.4028]\n",
      "  [ 0.3666]]\n",
      "\n",
      " [[-0.2895]\n",
      "  [-0.7478]\n",
      "  [ 0.2034]\n",
      "  [ 0.1363]]] (3, 4, 1)\n"
     ]
    },
    {
     "data": {
      "text/plain": [
       "(array([[[-0.4714,  0.739 , -0.5348, -0.6104,  0.8776],\n",
       "         [-0.7643,  2.048 ,  0.361 , -0.0669, -1.5778],\n",
       "         [ 0.9518, -0.9029, -1.0448, -0.4405,  1.4364],\n",
       "         [-0.5721, -0.468 ,  1.1869, -0.0564, -0.0905]],\n",
       " \n",
       "        [[-0.6265,  0.4251,  0.1408, -0.8576,  0.9181],\n",
       "         [-0.2566,  0.5719,  1.5778, -0.251 , -1.6422],\n",
       "         [ 0.4844, -0.3884, -0.4769, -0.4513,  0.8323],\n",
       "         [-0.7999,  1.0245,  0.4537, -0.614 , -0.0643]],\n",
       " \n",
       "        [[ 0.8335, -0.6528, -0.9769,  1.2268, -0.4306],\n",
       "         [-0.8462,  0.3723, -0.2109,  1.5421, -0.8573],\n",
       "         [ 0.3403,  0.7218, -1.673 , -0.603 ,  1.2139],\n",
       "         [-1.0339,  1.7085,  1.1168, -1.6273, -0.1641]]]),\n",
       " (3, 4, 5),\n",
       " array([[ 0.,  0.,  0., -0.],\n",
       "        [-0., -0., -0.,  0.],\n",
       "        [-0.,  0.,  0., -0.]]))"
      ]
     },
     "execution_count": 204,
     "metadata": {},
     "output_type": "execute_result"
    }
   ],
   "source": [
    "demeaned = arr - depth_means[:, :, np.newaxis]\n",
    "print(arr)\n",
    "print(depth_means[:, :, np.newaxis], depth_means[:, :, np.newaxis].shape)  #3,4,1\n",
    "demeaned, demeaned.shape, demeaned.mean(2)"
   ]
  },
  {
   "cell_type": "code",
   "execution_count": 206,
   "metadata": {},
   "outputs": [
    {
     "name": "stderr",
     "output_type": "stream",
     "text": [
      "<ipython-input-206-ec87c289fe15>:7: FutureWarning: Using a non-tuple sequence for multidimensional indexing is deprecated; use `arr[tuple(seq)]` instead of `arr[seq]`. In the future this will be interpreted as an array index, `arr[np.array(seq)]`, which will result either in an error or a different result.\n",
      "  return arr - means[indexer]\n"
     ]
    },
    {
     "data": {
      "text/plain": [
       "array([[[-0.2497,  0.7021,  0.0557, -0.3964,  0.5561],\n",
       "        [-0.1218,  1.0707, -0.1948, -0.4549, -0.1985],\n",
       "        [ 0.177 , -0.8956, -0.1625, -0.1248,  0.093 ],\n",
       "        [-0.2272, -1.68  , -0.1893,  0.2524, -0.4413]],\n",
       "\n",
       "       [[-0.4967,  0.2963,  0.6394, -0.7356,  0.5047],\n",
       "        [ 0.8661,  0.0749,  1.5022, -0.1587,  0.2172],\n",
       "        [ 0.0832, -0.0076,  0.779 ,  0.2379, -0.1376],\n",
       "        [ 0.3457,  0.6131, -0.1218,  0.4955,  0.3856]],\n",
       "\n",
       "       [[ 0.7465, -0.9984, -0.6951,  1.132 , -1.0608],\n",
       "        [-0.7443, -1.1456, -1.3074,  0.6136, -0.0187],\n",
       "        [-0.2603,  0.9032, -0.6165, -0.1131,  0.0447],\n",
       "        [-0.1186,  1.0669,  0.3111, -0.748 ,  0.0556]]])"
      ]
     },
     "execution_count": 206,
     "metadata": {},
     "output_type": "execute_result"
    }
   ],
   "source": [
    "def demean_axis(arr, axis=0):\n",
    "    means = arr.mean(axis)\n",
    "\n",
    "    # This generalizes things like [:, :, np.newaxis] to N dimensions\n",
    "    indexer = [slice(None)] * arr.ndim\n",
    "    indexer[axis] = np.newaxis\n",
    "    return arr - means[indexer]\n",
    "\n",
    "\n",
    "demean_axis(arr)"
   ]
  },
  {
   "cell_type": "markdown",
   "metadata": {
    "jupyter": {
     "source_hidden": true
    },
    "tags": []
   },
   "source": [
    "```python\n",
    "def demean_axis(arr, axis=0):\n",
    "    means = arr.mean(axis)\n",
    "\n",
    "    # This generalizes things like [:, :, np.newaxis] to N dimensions\n",
    "    indexer = [slice(None)] * arr.ndim\n",
    "    indexer[axis] = np.newaxis\n",
    "    return arr - means[indexer]\n",
    "```"
   ]
  },
  {
   "cell_type": "markdown",
   "metadata": {},
   "source": [
    "### Setting Array Values by Broadcasting 通过广播设置数组的值"
   ]
  },
  {
   "cell_type": "code",
   "execution_count": 207,
   "metadata": {},
   "outputs": [
    {
     "data": {
      "text/plain": [
       "array([[5., 5., 5.],\n",
       "       [5., 5., 5.],\n",
       "       [5., 5., 5.],\n",
       "       [5., 5., 5.]])"
      ]
     },
     "execution_count": 207,
     "metadata": {},
     "output_type": "execute_result"
    }
   ],
   "source": [
    "arr = np.zeros((4, 3))\n",
    "arr[:] = 5\n",
    "arr"
   ]
  },
  {
   "cell_type": "code",
   "execution_count": 209,
   "metadata": {},
   "outputs": [
    {
     "data": {
      "text/plain": [
       "array([[ 1.28,  1.28,  1.28],\n",
       "       [-0.42, -0.42, -0.42],\n",
       "       [ 0.44,  0.44,  0.44],\n",
       "       [ 1.6 ,  1.6 ,  1.6 ]])"
      ]
     },
     "execution_count": 209,
     "metadata": {},
     "output_type": "execute_result"
    }
   ],
   "source": [
    "col = np.array([1.28, -0.42, 0.44, 1.6])\n",
    "arr[:] = col[:, np.newaxis]\n",
    "arr"
   ]
  },
  {
   "cell_type": "code",
   "execution_count": 211,
   "metadata": {},
   "outputs": [
    {
     "data": {
      "text/plain": [
       "array([[ 1.28,  1.28,  1.28],\n",
       "       [-0.42, -0.42, -0.42]])"
      ]
     },
     "execution_count": 211,
     "metadata": {},
     "output_type": "execute_result"
    }
   ],
   "source": [
    "arr[:2]"
   ]
  },
  {
   "cell_type": "code",
   "execution_count": 212,
   "metadata": {},
   "outputs": [
    {
     "ename": "ValueError",
     "evalue": "could not broadcast input array from shape (2) into shape (2,3)",
     "output_type": "error",
     "traceback": [
      "\u001b[1;31m---------------------------------------------------------------------------\u001b[0m",
      "\u001b[1;31mValueError\u001b[0m                                Traceback (most recent call last)",
      "\u001b[1;32m<ipython-input-212-5c2e7719c8a2>\u001b[0m in \u001b[0;36m<module>\u001b[1;34m\u001b[0m\n\u001b[1;32m----> 1\u001b[1;33m \u001b[0marr\u001b[0m\u001b[1;33m[\u001b[0m\u001b[1;33m:\u001b[0m\u001b[1;36m2\u001b[0m\u001b[1;33m]\u001b[0m \u001b[1;33m=\u001b[0m \u001b[1;33m[\u001b[0m\u001b[1;33m-\u001b[0m\u001b[1;36m1.37\u001b[0m\u001b[1;33m,\u001b[0m \u001b[1;36m0.509\u001b[0m\u001b[1;33m]\u001b[0m\u001b[1;33m\u001b[0m\u001b[1;33m\u001b[0m\u001b[0m\n\u001b[0m",
      "\u001b[1;31mValueError\u001b[0m: could not broadcast input array from shape (2) into shape (2,3)"
     ]
    }
   ],
   "source": [
    "arr[:2] = [[-1.37], [0.509]]"
   ]
  },
  {
   "cell_type": "code",
   "execution_count": 214,
   "metadata": {},
   "outputs": [
    {
     "data": {
      "text/plain": [
       "(2, 1)"
      ]
     },
     "execution_count": 214,
     "metadata": {},
     "output_type": "execute_result"
    }
   ],
   "source": [
    "np.array([[-1.37], [0.509]]).shape"
   ]
  },
  {
   "cell_type": "code",
   "execution_count": 215,
   "metadata": {},
   "outputs": [
    {
     "data": {
      "text/plain": [
       "array([[ 1.28,  1.28,  1.28],\n",
       "       [-0.42, -0.42, -0.42],\n",
       "       [ 0.44,  0.44,  0.44],\n",
       "       [ 1.6 ,  1.6 ,  1.6 ]])"
      ]
     },
     "execution_count": 215,
     "metadata": {},
     "output_type": "execute_result"
    }
   ],
   "source": [
    "arr"
   ]
  },
  {
   "cell_type": "markdown",
   "metadata": {},
   "source": [
    "## Advanced ufunc Usage ufunc高级应用"
   ]
  },
  {
   "cell_type": "markdown",
   "metadata": {},
   "source": [
    "### ufunc Instance Methods ufunc实例方法"
   ]
  },
  {
   "cell_type": "code",
   "execution_count": 218,
   "metadata": {},
   "outputs": [
    {
     "data": {
      "text/plain": [
       "(45, 45)"
      ]
     },
     "execution_count": 218,
     "metadata": {},
     "output_type": "execute_result"
    }
   ],
   "source": [
    "arr = np.arange(10)\n",
    "np.add.reduce(arr), arr.sum()"
   ]
  },
  {
   "cell_type": "code",
   "execution_count": null,
   "metadata": {},
   "outputs": [],
   "source": [
    "arr[::2].sort"
   ]
  },
  {
   "cell_type": "code",
   "execution_count": 227,
   "metadata": {
    "tags": []
   },
   "outputs": [
    {
     "name": "stdout",
     "output_type": "stream",
     "text": [
      "[[-0.09    0.7594  0.7483 -0.9815  0.3658]\n",
      " [-0.3154 -0.8661  0.0279 -0.4556 -1.6019]\n",
      " [ 0.2483 -0.3215 -0.8487  0.0005 -0.5465]\n",
      " [ 0.2539  1.9368 -0.7995 -0.5692  0.0489]\n",
      " [-0.6491 -0.4795 -0.9535  1.4225  0.1754]]\n",
      "[[-0.09    0.7594  0.7483 -0.9815  0.3658]\n",
      " [-0.3154 -0.8661  0.0279 -0.4556 -1.6019]\n",
      " [ 0.2483 -0.3215 -0.8487  0.0005 -0.5465]\n",
      " [ 0.2539  1.9368 -0.7995 -0.5692  0.0489]\n",
      " [-0.6491 -0.4795 -0.9535  1.4225  0.1754]] (5, 5)\n",
      "[[-0.09    0.7594  0.7483 -0.9815  0.3658]\n",
      " [ 0.2483 -0.3215 -0.8487  0.0005 -0.5465]\n",
      " [-0.6491 -0.4795 -0.9535  1.4225  0.1754]] (3, 5)\n",
      "[[-0.9815 -0.09    0.3658  0.7483  0.7594]\n",
      " [-0.8487 -0.5465 -0.3215  0.0005  0.2483]\n",
      " [-0.9535 -0.6491 -0.4795  0.1754  1.4225]]\n"
     ]
    },
    {
     "data": {
      "text/plain": [
       "array([[-0.9815, -0.09  ,  0.3658,  0.7483,  0.7594],\n",
       "       [-0.3154, -0.8661,  0.0279, -0.4556, -1.6019],\n",
       "       [-0.8487, -0.5465, -0.3215,  0.0005,  0.2483],\n",
       "       [ 0.2539,  1.9368, -0.7995, -0.5692,  0.0489],\n",
       "       [-0.9535, -0.6491, -0.4795,  0.1754,  1.4225]])"
      ]
     },
     "execution_count": 227,
     "metadata": {},
     "output_type": "execute_result"
    }
   ],
   "source": [
    "np.random.seed(12346)  # for reproducibility\n",
    "arr = np.random.randn(5, 5)\n",
    "print(arr)\n",
    "print(arr[::],arr[::].shape)\n",
    "print(arr[::2],arr[::2].shape) # 2类似range里的step\n",
    "arr[::2].sort(1) # sort a few rows 排序1,3,5行\n",
    "print(arr[::2])\n",
    "arr\n"
   ]
  },
  {
   "cell_type": "code",
   "execution_count": 237,
   "metadata": {},
   "outputs": [
    {
     "name": "stdout",
     "output_type": "stream",
     "text": [
      "[[-0.9815 -0.09    0.3658  0.7483]\n",
      " [-0.3154 -0.8661  0.0279 -0.4556]\n",
      " [-0.8487 -0.5465 -0.3215  0.0005]\n",
      " [ 0.2539  1.9368 -0.7995 -0.5692]\n",
      " [-0.9535 -0.6491 -0.4795  0.1754]]\n",
      "[[-0.09    0.3658  0.7483  0.7594]\n",
      " [-0.8661  0.0279 -0.4556 -1.6019]\n",
      " [-0.5465 -0.3215  0.0005  0.2483]\n",
      " [ 1.9368 -0.7995 -0.5692  0.0489]\n",
      " [-0.6491 -0.4795  0.1754  1.4225]]\n",
      "[[ True  True  True  True]\n",
      " [False  True False False]\n",
      " [ True  True  True  True]\n",
      " [ True False  True  True]\n",
      " [ True  True  True  True]]\n",
      "[ True False  True False  True]\n",
      "[ True False  True False  True]\n"
     ]
    }
   ],
   "source": [
    "print(arr[:,:-1]) #每行到倒数第一列\n",
    "print(arr[:, 1:]) \n",
    "arr[:, :-1] < arr[:, 1:]\n",
    "print(arr[:, :-1] < arr[:, 1:])\n",
    "np.logical_and.reduce(arr[:, :-1] < arr[:, 1:], axis=1)\n",
    "print(np.logical_and.reduce(arr[:, :-1] < arr[:, 1:], axis=1)) #整行逻辑与 axis=1 \n",
    "print(np.all(arr[:, :-1] < arr[:, 1:], axis=1))\n",
    "#logical_and.reduce跟all方法是等价的"
   ]
  },
  {
   "cell_type": "code",
   "execution_count": 259,
   "metadata": {},
   "outputs": [
    {
     "name": "stdout",
     "output_type": "stream",
     "text": [
      "[[ 0  1  2  3  4]\n",
      " [ 5  6  7  8  9]\n",
      " [10 11 12 13 14]]\n",
      "[10 35 60]\n",
      "[10 35 60]\n",
      "[[ 0  1  3  6 10]\n",
      " [ 5 11 18 26 35]\n",
      " [10 21 33 46 60]]\n",
      "[[ 0  1  3  6 10]\n",
      " [ 5 11 18 26 35]\n",
      " [10 21 33 46 60]]\n"
     ]
    }
   ],
   "source": [
    "arr = np.arange(15).reshape((3, 5))\n",
    "print(arr)\n",
    "print(np.add.reduce(arr, axis=1))\n",
    "print(np.sum(arr, axis=1))\n",
    "\n",
    "print(np.cumsum(arr, axis=1))\n",
    "print(np.add.accumulate(arr, axis=1))"
   ]
  },
  {
   "cell_type": "code",
   "execution_count": 262,
   "metadata": {},
   "outputs": [
    {
     "data": {
      "text/plain": [
       "(array([0, 1, 1, 2, 2]),\n",
       " array([0, 1, 2, 3, 4]),\n",
       " array([[0, 0, 0, 0, 0],\n",
       "        [0, 1, 2, 3, 4],\n",
       "        [0, 1, 2, 3, 4],\n",
       "        [0, 2, 4, 6, 8],\n",
       "        [0, 2, 4, 6, 8]]),\n",
       " array([0, 1, 2, 6, 8]))"
      ]
     },
     "execution_count": 262,
     "metadata": {},
     "output_type": "execute_result"
    }
   ],
   "source": [
    "arr = np.arange(3).repeat([1, 2, 2])\n",
    "\n",
    "arr, np.arange(5), np.multiply.outer(arr, np.arange(5)), np.multiply(arr, np.arange(5))"
   ]
  },
  {
   "cell_type": "code",
   "execution_count": 267,
   "metadata": {},
   "outputs": [
    {
     "name": "stdout",
     "output_type": "stream",
     "text": [
      "[[ 0.5737  0.5605  0.2095 -0.8083]\n",
      " [ 0.8893  1.1924 -0.2881 -1.6406]\n",
      " [-1.6053 -1.2456 -1.0231  0.5297]]\n",
      "[ 0.7745 -1.7123  0.7562 -1.4077 -0.8812]\n",
      "[[[-0.2008  2.286  -0.1825  1.9814  1.4549]\n",
      "  [-0.214   2.2728 -0.1957  1.9682  1.4417]\n",
      "  [-0.565   1.9218 -0.5467  1.6172  1.0907]\n",
      "  [-1.5828  0.9039 -1.5646  0.5993  0.0728]]\n",
      "\n",
      " [[ 0.1149  2.6016  0.1331  2.297   1.7705]\n",
      "  [ 0.4179  2.9046  0.4361  2.6     2.0735]\n",
      "  [-1.0626  1.4242 -1.0443  1.1196  0.5931]\n",
      "  [-2.4151  0.0717 -2.3968 -0.2329 -0.7594]]\n",
      "\n",
      " [[-2.3798  0.107  -2.3615 -0.1976 -0.7241]\n",
      "  [-2.0201  0.4667 -2.0018  0.1621 -0.3644]\n",
      "  [-1.7976  0.6892 -1.7793  0.3846 -0.1419]\n",
      "  [-0.2448  2.2419 -0.2266  1.9373  1.4108]]]\n"
     ]
    },
    {
     "data": {
      "text/plain": [
       "(3, 4, 5)"
      ]
     },
     "execution_count": 267,
     "metadata": {},
     "output_type": "execute_result"
    }
   ],
   "source": [
    "x, y = np.random.randn(3, 4), np.random.randn(5)\n",
    "\n",
    "result = np.subtract.outer(x, y)\n",
    "print(x)\n",
    "print(y)\n",
    "print(result)\n",
    "result.shape"
   ]
  },
  {
   "cell_type": "code",
   "execution_count": 275,
   "metadata": {},
   "outputs": [
    {
     "name": "stdout",
     "output_type": "stream",
     "text": [
      "10 18 17\n"
     ]
    },
    {
     "data": {
      "text/plain": [
       "array([10, 18, 17], dtype=int32)"
      ]
     },
     "execution_count": 275,
     "metadata": {},
     "output_type": "execute_result"
    }
   ],
   "source": [
    "#add.reduce/add.reduceat/sum\n",
    "arr = np.arange(10)\n",
    "print(np.add.reduce(arr[0:5]), np.add.reduce(arr[5:8]), np.sum(arr[8:]))\n",
    "np.add.reduceat(arr, [0, 5, 8])"
   ]
  },
  {
   "cell_type": "code",
   "execution_count": 276,
   "metadata": {},
   "outputs": [
    {
     "name": "stdout",
     "output_type": "stream",
     "text": [
      "[[ 0  0  0  0  0]\n",
      " [ 0  1  2  3  4]\n",
      " [ 0  2  4  6  8]\n",
      " [ 0  3  6  9 12]]\n"
     ]
    },
    {
     "data": {
      "text/plain": [
       "array([[ 0,  0,  0],\n",
       "       [ 1,  5,  4],\n",
       "       [ 2, 10,  8],\n",
       "       [ 3, 15, 12]], dtype=int32)"
      ]
     },
     "execution_count": 276,
     "metadata": {},
     "output_type": "execute_result"
    }
   ],
   "source": [
    "arr = np.multiply.outer(np.arange(4), np.arange(5))\n",
    "print(arr)\n",
    "np.add.reduceat(arr, [0, 2, 4], axis=1)"
   ]
  },
  {
   "cell_type": "markdown",
   "metadata": {},
   "source": [
    "### Writing New ufuncs in Python 编写新的ufunc 自定义"
   ]
  },
  {
   "cell_type": "code",
   "execution_count": 278,
   "metadata": {},
   "outputs": [
    {
     "data": {
      "text/plain": [
       "(array([0, 2, 4, 6, 8, 10, 12, 14], dtype=object), dtype('O'))"
      ]
     },
     "execution_count": 278,
     "metadata": {},
     "output_type": "execute_result"
    }
   ],
   "source": [
    "def add_elements(x, y):\n",
    "    return x + y\n",
    "add_them = np.frompyfunc(add_elements, 2, 1)\n",
    "add_them(np.arange(8), np.arange(8)), add_them(np.arange(8), np.arange(8)).dtype"
   ]
  },
  {
   "cell_type": "code",
   "execution_count": 279,
   "metadata": {},
   "outputs": [
    {
     "data": {
      "text/plain": [
       "(array([ 0.,  2.,  4.,  6.,  8., 10., 12., 14.]), dtype('float64'))"
      ]
     },
     "execution_count": 279,
     "metadata": {},
     "output_type": "execute_result"
    }
   ],
   "source": [
    "add_them = np.vectorize(add_elements, otypes=[np.float64])\n",
    "add_them(np.arange(8), np.arange(8))\n",
    "add_them(np.arange(8), np.arange(8)), add_them(np.arange(8), np.arange(8)).dtype"
   ]
  },
  {
   "cell_type": "code",
   "execution_count": 283,
   "metadata": {},
   "outputs": [
    {
     "name": "stdout",
     "output_type": "stream",
     "text": [
      "2.97 µs ± 50.5 ns per loop (mean ± std. dev. of 7 runs, 100000 loops each)\n"
     ]
    }
   ],
   "source": [
    "arr = np.random.randn(10000)\n",
    "# %timeit add_them(arr, arr)\n",
    "%timeit np.add(arr, arr)"
   ]
  },
  {
   "cell_type": "markdown",
   "metadata": {},
   "source": [
    "## Structured and Record Arrays 结构化和记录式数组"
   ]
  },
  {
   "cell_type": "code",
   "execution_count": 284,
   "metadata": {},
   "outputs": [
    {
     "data": {
      "text/plain": [
       "array([(1.5   ,  6), (3.1416, -2)], dtype=[('x', '<f8'), ('y', '<i4')])"
      ]
     },
     "execution_count": 284,
     "metadata": {},
     "output_type": "execute_result"
    }
   ],
   "source": [
    "dtype = [('x', np.float64), ('y', np.int32)]\n",
    "sarr = np.array([(1.5, 6), (np.pi, -2)], dtype=dtype)\n",
    "sarr"
   ]
  },
  {
   "cell_type": "code",
   "execution_count": 286,
   "metadata": {},
   "outputs": [
    {
     "data": {
      "text/plain": [
       "((1.5, 6), 1.5, 6)"
      ]
     },
     "execution_count": 286,
     "metadata": {},
     "output_type": "execute_result"
    }
   ],
   "source": [
    "sarr[0], sarr[0]['x'], sarr[0]['y']"
   ]
  },
  {
   "cell_type": "code",
   "execution_count": 291,
   "metadata": {},
   "outputs": [
    {
     "data": {
      "text/plain": [
       "(array([1.5   , 3.1416]),\n",
       " array([(1.5   ,  6), (3.1416, -2)], dtype=[('x', '<f8'), ('y', '<i4')]))"
      ]
     },
     "execution_count": 291,
     "metadata": {},
     "output_type": "execute_result"
    }
   ],
   "source": [
    "sarr['x'], sarr"
   ]
  },
  {
   "cell_type": "markdown",
   "metadata": {},
   "source": [
    "### Nested dtypes and Multidimensional Fields 嵌套dtype和多维字段"
   ]
  },
  {
   "cell_type": "code",
   "execution_count": 298,
   "metadata": {},
   "outputs": [
    {
     "data": {
      "text/plain": [
       "(array([([0, 0, 0], 0), ([0, 0, 0], 0), ([0, 0, 0], 0), ([0, 0, 0], 0)],\n",
       "       dtype=[('x', '<i8', (3,)), ('y', '<i4')]),\n",
       " (4,))"
      ]
     },
     "execution_count": 298,
     "metadata": {},
     "output_type": "execute_result"
    }
   ],
   "source": [
    "dtype = [('x', np.int64, 3), ('y', np.int32)]\n",
    "arr = np.zeros(4, dtype=dtype)\n",
    "arr, arr.shape"
   ]
  },
  {
   "cell_type": "code",
   "execution_count": 294,
   "metadata": {},
   "outputs": [
    {
     "data": {
      "text/plain": [
       "array([0, 0, 0], dtype=int64)"
      ]
     },
     "execution_count": 294,
     "metadata": {},
     "output_type": "execute_result"
    }
   ],
   "source": [
    "arr[0]['x']"
   ]
  },
  {
   "cell_type": "code",
   "execution_count": 299,
   "metadata": {},
   "outputs": [
    {
     "data": {
      "text/plain": [
       "array([[0, 0, 0],\n",
       "       [0, 0, 0],\n",
       "       [0, 0, 0],\n",
       "       [0, 0, 0]], dtype=int64)"
      ]
     },
     "execution_count": 299,
     "metadata": {},
     "output_type": "execute_result"
    }
   ],
   "source": [
    "arr['x']"
   ]
  },
  {
   "cell_type": "code",
   "execution_count": 301,
   "metadata": {},
   "outputs": [
    {
     "data": {
      "text/plain": [
       "(array([(1., 2.), (3., 4.)], dtype=[('a', '<f8'), ('b', '<f4')]),\n",
       " array([5, 6]),\n",
       " array([1., 3.]))"
      ]
     },
     "execution_count": 301,
     "metadata": {},
     "output_type": "execute_result"
    }
   ],
   "source": [
    "dtype = [('x', [('a', 'f8'), ('b', 'f4')]), ('y', np.int32)]\n",
    "data = np.array([((1, 2), 5), ((3, 4), 6)], dtype=dtype)\n",
    "data['x'], data['y'], data['x']['a']"
   ]
  },
  {
   "cell_type": "markdown",
   "metadata": {},
   "source": [
    "### Why Use Structured Arrays? 为什么要用结构化数组\n",
    "跟pandas的DataFrame相比，NumPy的结构化数组是一种相对较低级的工具。它 可以将单个内存块解释为带有任意复杂嵌套列的表格型结构。由于数组中的每个元 素在内存中都被表示为固定的字节数，所以结构化数组能够提供非常快速高效的磁 盘数据读写（包括内存映像）、网络传输等功能。 结构化数组的另一个常见用法是，将数据文件写成定长记录字节流，这是C和 C++代码中常见的数据序列化手段（业界许多历史系统中都能找得到）。只要知道 文件的格式（记录的大小、元素的顺序、字节数以及数据类型等），就可以用 np.fromfile将数据读入内存。这种用法超出了本书的范围，知道这点就可以了。"
   ]
  },
  {
   "cell_type": "markdown",
   "metadata": {},
   "source": [
    "## More About Sorting 更多有关排序的话题"
   ]
  },
  {
   "cell_type": "code",
   "execution_count": 308,
   "metadata": {},
   "outputs": [
    {
     "data": {
      "text/plain": [
       "(array([-2.4024, -1.1814, -0.8991,  0.4374,  0.7864,  1.6401]),\n",
       " None,\n",
       " array([-2.4024, -1.1814, -0.8991,  0.4374,  0.7864,  1.6401]))"
      ]
     },
     "execution_count": 308,
     "metadata": {},
     "output_type": "execute_result"
    }
   ],
   "source": [
    "arr = np.random.randn(6)\n",
    "arr, arr.sort(), arr   \n",
    "#arr.sort()不返回数组，但是会修改数组"
   ]
  },
  {
   "cell_type": "code",
   "execution_count": 306,
   "metadata": {},
   "outputs": [
    {
     "data": {
      "text/plain": [
       "array([[-0.1   , -1.0958, -0.6835, -1.4095, -0.1002],\n",
       "       [-0.451 , -0.5049, -0.1167, -0.6777,  0.1794],\n",
       "       [-1.2416,  2.7524, -0.1418,  0.478 , -0.0312]])"
      ]
     },
     "execution_count": 306,
     "metadata": {},
     "output_type": "execute_result"
    }
   ],
   "source": [
    "arr = np.random.randn(3, 5)\n",
    "arr\n",
    "arr[:, 1].sort()  # Sort first column values in-place\n",
    "arr"
   ]
  },
  {
   "cell_type": "code",
   "execution_count": 307,
   "metadata": {},
   "outputs": [
    {
     "data": {
      "text/plain": [
       "(array([ 1.1015,  0.7699, -1.4849, -0.1203,  0.7086]),\n",
       " array([-1.4849, -0.1203,  0.7086,  0.7699,  1.1015]),\n",
       " array([ 1.1015,  0.7699, -1.4849, -0.1203,  0.7086]))"
      ]
     },
     "execution_count": 307,
     "metadata": {},
     "output_type": "execute_result"
    }
   ],
   "source": [
    "arr = np.random.randn(5)\n",
    "arr, np.sort(arr), arr \n",
    "#np.sort不会修改数组本身，但是会返回一个排序的副本"
   ]
  },
  {
   "cell_type": "code",
   "execution_count": 309,
   "metadata": {},
   "outputs": [
    {
     "data": {
      "text/plain": [
       "(array([[-1.6011, -0.6982,  0.4462,  0.6889,  1.3671],\n",
       "        [-1.0226, -0.5072, -0.2611,  0.5931,  0.8071],\n",
       "        [-0.9761, -0.2464, -0.1686,  0.1061,  1.4123]]),\n",
       " None,\n",
       " array([[-1.6011, -0.6982,  0.4462,  0.6889,  1.3671],\n",
       "        [-1.0226, -0.5072, -0.2611,  0.5931,  0.8071],\n",
       "        [-0.9761, -0.2464, -0.1686,  0.1061,  1.4123]]))"
      ]
     },
     "execution_count": 309,
     "metadata": {},
     "output_type": "execute_result"
    }
   ],
   "source": [
    "arr = np.random.randn(3, 5)\n",
    "arr,arr.sort(axis=1), arr #行排序"
   ]
  },
  {
   "cell_type": "code",
   "execution_count": 310,
   "metadata": {},
   "outputs": [
    {
     "data": {
      "text/plain": [
       "array([[ 1.3671,  0.6889,  0.4462, -0.6982, -1.6011],\n",
       "       [ 0.8071,  0.5931, -0.2611, -0.5072, -1.0226],\n",
       "       [ 1.4123,  0.1061, -0.1686, -0.2464, -0.9761]])"
      ]
     },
     "execution_count": 310,
     "metadata": {},
     "output_type": "execute_result"
    }
   ],
   "source": [
    "arr[:, ::-1] #倒序的语法糖"
   ]
  },
  {
   "cell_type": "markdown",
   "metadata": {},
   "source": [
    "### Indirect Sorts: argsort and lexsort 间接排序：argsort和lexsort"
   ]
  },
  {
   "cell_type": "code",
   "execution_count": 312,
   "metadata": {},
   "outputs": [
    {
     "data": {
      "text/plain": [
       "(array([1, 2, 4, 3, 0], dtype=int64), array([0, 1, 2, 3, 5]))"
      ]
     },
     "execution_count": 312,
     "metadata": {},
     "output_type": "execute_result"
    }
   ],
   "source": [
    "values = np.array([5, 0, 1, 3, 2])\n",
    "indexer = values.argsort()#1,2,4,3,0\n",
    "\n",
    "indexer, values[indexer]"
   ]
  },
  {
   "cell_type": "code",
   "execution_count": 317,
   "metadata": {},
   "outputs": [
    {
     "data": {
      "text/plain": [
       "(array([[ 5.    ,  0.    ,  1.    ,  3.    ,  2.    ],\n",
       "        [-0.9134,  1.3138, -1.1886,  0.4285, -0.1708],\n",
       "        [-1.5429, -0.1778, -2.2141, -0.3991,  1.0527]]),\n",
       " array([[ 0.    ,  1.    ,  2.    ,  3.    ,  5.    ],\n",
       "        [ 1.3138, -1.1886, -0.1708,  0.4285, -0.9134],\n",
       "        [-0.1778, -2.2141,  1.0527, -0.3991, -1.5429]]),\n",
       " array([1, 2, 4, 3, 0], dtype=int64))"
      ]
     },
     "execution_count": 317,
     "metadata": {},
     "output_type": "execute_result"
    }
   ],
   "source": [
    "arr = np.random.randn(3, 5)\n",
    "arr[0] = values\n",
    "arr, arr[:, arr[0].argsort()], arr[0].argsort()"
   ]
  },
  {
   "cell_type": "code",
   "execution_count": null,
   "metadata": {},
   "outputs": [],
   "source": [
    "#字典序，就记住用last_name为主排序就完事了\n",
    "irst_name = np.array(['Bob', 'Jane', 'Steve', 'Bill', 'Barbara'])\n",
    "last_name = np.array(['Jones', 'Arnold', 'Arnold', 'Jones', 'Walters'])\n",
    "sorter = np.lexsort((first_name, last_name))\n",
    "sorter\n",
    "zip(last_name[sorter], first_name[sorter])"
   ]
  },
  {
   "cell_type": "markdown",
   "metadata": {},
   "source": [
    "### Alternative Sort Algorithms 其他供选择的排序算法"
   ]
  },
  {
   "cell_type": "code",
   "execution_count": 319,
   "metadata": {},
   "outputs": [
    {
     "data": {
      "text/plain": [
       "(array([2, 3, 4, 0, 1], dtype=int64),\n",
       " array(['1:first', '1:second', '1:third', '2:first', '2:second'],\n",
       "       dtype='<U8'))"
      ]
     },
     "execution_count": 319,
     "metadata": {},
     "output_type": "execute_result"
    }
   ],
   "source": [
    "values = np.array(['2:first', '2:second', '1:first', '1:second',\n",
    "                   '1:third'])\n",
    "key = np.array([2, 2, 1, 1, 1])\n",
    "indexer = key.argsort(kind='mergesort')\n",
    "\n",
    "indexer, values.take(indexer)\n"
   ]
  },
  {
   "attachments": {
    "71d2d337-9095-48a2-9d50-a11db4f1ba26.png": {
     "image/png": "[encoded data removed]"
    }
   },
   "cell_type": "markdown",
   "metadata": {},
   "source": [
    "![image.png](attachment:71d2d337-9095-48a2-9d50-a11db4f1ba26.png)"
   ]
  },
  {
   "cell_type": "markdown",
   "metadata": {},
   "source": [
    "### Partially Sorting Arrays #部分排序数组\n",
    "排序的目的之一可能是确定数组中最大或最小的元素。NumPy有两个优化方法， numpy.partition和np.argpartition，可以在第k个最小元素划分的数组"
   ]
  },
  {
   "cell_type": "code",
   "execution_count": 323,
   "metadata": {},
   "outputs": [
    {
     "data": {
      "text/plain": [
       "(array([-0.2047,  0.4789, -0.5194, -0.5557,  1.9658,  1.3934,  0.0929,\n",
       "         0.2817,  0.769 ,  1.2464,  1.0072, -1.2962,  0.275 ,  0.2289,\n",
       "         1.3529,  0.8864, -2.0016, -0.3718,  1.669 , -0.4386]),\n",
       " array([-1.2962, -0.4386, -0.5194, -0.5557, -0.3718, -2.0016, -0.2047,\n",
       "         0.0929,  0.2289,  0.275 ,  0.2817,  0.4789,  0.8864,  0.769 ,\n",
       "         1.0072,  1.2464,  1.3529,  1.3934,  1.669 ,  1.9658]))"
      ]
     },
     "execution_count": 323,
     "metadata": {},
     "output_type": "execute_result"
    }
   ],
   "source": [
    "np.random.seed(12345)\n",
    "arr = np.random.randn(20)\n",
    "arr, np.partition(arr, 3) #3最小3个 ，-3最大三个"
   ]
  },
  {
   "cell_type": "code",
   "execution_count": 321,
   "metadata": {},
   "outputs": [
    {
     "data": {
      "text/plain": [
       "array([-2.0016, -1.2962, -0.5557, -0.5194, -0.3718, -0.4386, -0.2047,\n",
       "        0.2817,  0.769 ,  0.4789,  1.0072,  0.0929,  0.275 ,  0.2289,\n",
       "        1.3529,  0.8864,  1.3934,  1.9658,  1.669 ,  1.2464])"
      ]
     },
     "execution_count": 321,
     "metadata": {},
     "output_type": "execute_result"
    }
   ],
   "source": [
    "indices = np.argpartition(arr, 3)\n",
    "indices\n",
    "arr.take(indices)"
   ]
  },
  {
   "cell_type": "markdown",
   "metadata": {},
   "source": [
    "### numpy.searchsorted: Finding Elements in a Sorted Array 在有序数组中查找元素"
   ]
  },
  {
   "cell_type": "code",
   "execution_count": null,
   "metadata": {},
   "outputs": [],
   "source": [
    "arr = np.array([0, 1, 7, 12, 15])\n",
    "arr.searchsorted(9)"
   ]
  },
  {
   "cell_type": "code",
   "execution_count": null,
   "metadata": {},
   "outputs": [],
   "source": [
    "arr.searchsorted([0, 8, 11, 16])"
   ]
  },
  {
   "cell_type": "code",
   "execution_count": null,
   "metadata": {},
   "outputs": [],
   "source": [
    "arr = np.array([0, 0, 0, 1, 1, 1, 1])\n",
    "arr.searchsorted([0, 1])\n",
    "arr.searchsorted([0, 1], side='right') #默认左侧"
   ]
  },
  {
   "cell_type": "code",
   "execution_count": 325,
   "metadata": {},
   "outputs": [
    {
     "data": {
      "text/plain": [
       "(array([2449., 7928., 4951., 9150., 9453., 5332., 2524., 7208., 3674.,\n",
       "        4986., 2265., 3535., 6508., 3129., 7687., 7818., 8524., 9499.,\n",
       "        1073., 9107., 3360., 8263., 8981.,  427., 1957., 2945., 6269.,\n",
       "         862., 1429., 5158., 6893., 8566., 6473., 5816., 7111., 2524.,\n",
       "        9001., 4422.,  205., 9596., 6522., 5132., 6823., 4895., 9264.,\n",
       "        5158.,  721., 5675., 6152., 9415.]),\n",
       " (50,))"
      ]
     },
     "execution_count": 325,
     "metadata": {},
     "output_type": "execute_result"
    }
   ],
   "source": [
    "data = np.floor(np.random.uniform(0, 10000, size=50))\n",
    "bins = np.array([0, 100, 1000, 5000, 10000])\n",
    "data, data.shape"
   ]
  },
  {
   "cell_type": "code",
   "execution_count": 326,
   "metadata": {},
   "outputs": [
    {
     "data": {
      "text/plain": [
       "array([3, 4, 3, 4, 4, 4, 3, 4, 3, 3, 3, 3, 4, 3, 4, 4, 4, 4, 3, 4, 3, 4,\n",
       "       4, 2, 3, 3, 4, 2, 3, 4, 4, 4, 4, 4, 4, 3, 4, 3, 2, 4, 4, 4, 4, 3,\n",
       "       4, 4, 2, 4, 4, 4], dtype=int64)"
      ]
     },
     "execution_count": 326,
     "metadata": {},
     "output_type": "execute_result"
    }
   ],
   "source": [
    "labels = bins.searchsorted(data)\n",
    "labels"
   ]
  },
  {
   "cell_type": "code",
   "execution_count": null,
   "metadata": {},
   "outputs": [],
   "source": [
    "pd.Series(data).groupby(labels).mean()"
   ]
  },
  {
   "cell_type": "markdown",
   "metadata": {},
   "source": [
    "## Writing Fast NumPy Functions with Numba  用Numba编写快速NumPy函数"
   ]
  },
  {
   "cell_type": "code",
   "execution_count": 3,
   "metadata": {},
   "outputs": [],
   "source": [
    "import numpy as np\n",
    "\n",
    "def mean_distance(x, y):\n",
    "    nx = len(x)\n",
    "    result = 0.0\n",
    "    count = 0\n",
    "    for i in range(nx):\n",
    "        result += x[i] - y[i]\n",
    "        count += 1\n",
    "    return result / count"
   ]
  },
  {
   "cell_type": "code",
   "execution_count": 12,
   "metadata": {},
   "outputs": [
    {
     "name": "stdout",
     "output_type": "stream",
     "text": [
      "4.63 s ± 26.6 ms per loop (mean ± std. dev. of 7 runs, 1 loop each)\n"
     ]
    }
   ],
   "source": [
    "x = np.random.randn(10000000)\n",
    "y = np.random.randn(10000000)\n",
    "%timeit mean_distance(x, y)\n",
    "# (x - y).mean()\n",
    "# print(1)\n"
   ]
  },
  {
   "cell_type": "code",
   "execution_count": 13,
   "metadata": {},
   "outputs": [
    {
     "name": "stdout",
     "output_type": "stream",
     "text": [
      "51.4 ms ± 2.03 ms per loop (mean ± std. dev. of 7 runs, 10 loops each)\n"
     ]
    }
   ],
   "source": [
    "%timeit (x - y).mean()"
   ]
  },
  {
   "cell_type": "markdown",
   "metadata": {},
   "source": [
    "```python\n",
    "In [209]: x = np.random.randn(10000000)\n",
    "\n",
    "In [210]: y = np.random.randn(10000000)\n",
    "\n",
    "In [211]: %timeit mean_distance(x, y)\n",
    "1 loop, best of 3: 2 s per loop\n",
    "\n",
    "In [212]: %timeit (x - y).mean()\n",
    "100 loops, best of 3: 14.7 ms per loop\n",
    "```"
   ]
  },
  {
   "cell_type": "code",
   "execution_count": 14,
   "metadata": {},
   "outputs": [
    {
     "name": "stdout",
     "output_type": "stream",
     "text": [
      "11.3 ms ± 138 µs per loop (mean ± std. dev. of 7 runs, 100 loops each)\n"
     ]
    }
   ],
   "source": [
    "import numba as nb\n",
    "numba_mean_distance = nb.jit(mean_distance)\n",
    "%timeit numba_mean_distance(x, y)\n",
    "# @nb.jit\n",
    "# def mean_distance(x, y):\n",
    "#     nx = len(x)\n",
    "#     result = 0.0\n",
    "#     count = 0\n",
    "#     for i in range(nx):\n",
    "#         result += x[i] - y[i]\n",
    "#         count += 1\n",
    "#     return result / count"
   ]
  },
  {
   "cell_type": "markdown",
   "metadata": {},
   "source": [
    "```python\n",
    "In [213]: import numba as nb\n",
    "\n",
    "In [214]: numba_mean_distance = nb.jit(mean_distance)\n",
    "```"
   ]
  },
  {
   "cell_type": "markdown",
   "metadata": {},
   "source": [
    "```python\n",
    "@nb.jit\n",
    "def mean_distance(x, y):\n",
    "    nx = len(x)\n",
    "    result = 0.0\n",
    "    count = 0\n",
    "    for i in range(nx):\n",
    "        result += x[i] - y[i]\n",
    "        count += 1\n",
    "    return result / count\n",
    "```"
   ]
  },
  {
   "cell_type": "markdown",
   "metadata": {},
   "source": [
    "```python\n",
    "In [215]: %timeit numba_mean_distance(x, y)\n",
    "100 loops, best of 3: 10.3 ms per loop\n",
    "```"
   ]
  },
  {
   "cell_type": "code",
   "execution_count": 15,
   "metadata": {},
   "outputs": [
    {
     "name": "stdout",
     "output_type": "stream",
     "text": [
      "11.2 ms ± 28.8 µs per loop (mean ± std. dev. of 7 runs, 100 loops each)\n"
     ]
    }
   ],
   "source": [
    "import numba as nb\n",
    "numba_mean_distance = nb.jit(mean_distance)\n",
    "\n",
    "\n",
    "@nb.jit\n",
    "def mean_distance(x, y):\n",
    "    nx = len(x)\n",
    "    result = 0.0\n",
    "    count = 0\n",
    "    for i in range(nx):\n",
    "        result += x[i] - y[i]\n",
    "        count += 1\n",
    "    return result / count\n",
    "%timeit numba_mean_distance(x, y)"
   ]
  },
  {
   "cell_type": "markdown",
   "metadata": {},
   "source": [
    "```python\n",
    "from numba import float64, njit #=jit(nopython=True)\n",
    "\n",
    "@njit(float64(float64[:], float64[:]))\n",
    "def mean_distance(x, y):\n",
    "    return (x - y).mean()\n",
    "```"
   ]
  },
  {
   "cell_type": "code",
   "execution_count": 18,
   "metadata": {},
   "outputs": [
    {
     "name": "stdout",
     "output_type": "stream",
     "text": [
      "51.4 ms ± 586 µs per loop (mean ± std. dev. of 7 runs, 10 loops each)\n"
     ]
    }
   ],
   "source": [
    "from numba import float64, njit, jit #=jit(nopython=True)\n",
    "\n",
    "@njit(float64(float64[:], float64[:]))\n",
    "def mean_distance(x, y):\n",
    "    return (x - y).mean()\n",
    "\n",
    "\n",
    "%timeit mean_distance(x, y)"
   ]
  },
  {
   "cell_type": "markdown",
   "metadata": {},
   "source": [
    "### Creating Custom numpy.ufunc Objects with Numba 用Numba创建自定义numpy.ufunc对象"
   ]
  },
  {
   "cell_type": "markdown",
   "metadata": {},
   "source": [
    "```python\n",
    "from numba import vectorize\n",
    "\n",
    "@vectorize\n",
    "def nb_add(x, y):\n",
    "    return x + y\n",
    "```"
   ]
  },
  {
   "cell_type": "markdown",
   "metadata": {},
   "source": [
    "```python\n",
    "In [13]: x = np.arange(10)\n",
    "\n",
    "In [14]: nb_add(x, x)\n",
    "Out[14]: array([  0.,   2.,   4.,   6.,   8.,  10.,  12.,  14.,  16.,  18.])\n",
    "\n",
    "In [15]: nb_add.accumulate(x, 0)\n",
    "Out[15]: array([  0.,   1.,   3.,   6.,  10.,  15.,  21.,  28.,  36.,  45.])\n",
    "```"
   ]
  },
  {
   "cell_type": "markdown",
   "metadata": {},
   "source": [
    "## Advanced Array Input and Output"
   ]
  },
  {
   "cell_type": "markdown",
   "metadata": {},
   "source": [
    "### Memory-Mapped Files"
   ]
  },
  {
   "cell_type": "code",
   "execution_count": 23,
   "metadata": {},
   "outputs": [
    {
     "ename": "OSError",
     "evalue": "[Errno 22] Invalid argument: 'mymmap'",
     "output_type": "error",
     "traceback": [
      "\u001b[1;31m---------------------------------------------------------------------------\u001b[0m",
      "\u001b[1;31mOSError\u001b[0m                                   Traceback (most recent call last)",
      "\u001b[1;32m<ipython-input-23-f1f552484c3f>\u001b[0m in \u001b[0;36m<module>\u001b[1;34m\u001b[0m\n\u001b[1;32m----> 1\u001b[1;33m mmap = np.memmap('mymmap', dtype='float64', mode='w+',\n\u001b[0m\u001b[0;32m      2\u001b[0m                  shape=(10000, 10000))\n\u001b[0;32m      3\u001b[0m \u001b[0mmmap\u001b[0m\u001b[1;33m,\u001b[0m \u001b[0mmmap\u001b[0m\u001b[1;33m.\u001b[0m\u001b[0mshape\u001b[0m\u001b[1;33m\u001b[0m\u001b[1;33m\u001b[0m\u001b[0m\n",
      "\u001b[1;32md:\\python38\\lib\\site-packages\\numpy\\core\\memmap.py\u001b[0m in \u001b[0;36m__new__\u001b[1;34m(subtype, filename, dtype, mode, offset, shape, order)\u001b[0m\n\u001b[0;32m    223\u001b[0m             \u001b[0mf_ctx\u001b[0m \u001b[1;33m=\u001b[0m \u001b[0mcontextlib_nullcontext\u001b[0m\u001b[1;33m(\u001b[0m\u001b[0mfilename\u001b[0m\u001b[1;33m)\u001b[0m\u001b[1;33m\u001b[0m\u001b[1;33m\u001b[0m\u001b[0m\n\u001b[0;32m    224\u001b[0m         \u001b[1;32melse\u001b[0m\u001b[1;33m:\u001b[0m\u001b[1;33m\u001b[0m\u001b[1;33m\u001b[0m\u001b[0m\n\u001b[1;32m--> 225\u001b[1;33m             \u001b[0mf_ctx\u001b[0m \u001b[1;33m=\u001b[0m \u001b[0mopen\u001b[0m\u001b[1;33m(\u001b[0m\u001b[0mos_fspath\u001b[0m\u001b[1;33m(\u001b[0m\u001b[0mfilename\u001b[0m\u001b[1;33m)\u001b[0m\u001b[1;33m,\u001b[0m \u001b[1;33m(\u001b[0m\u001b[1;34m'r'\u001b[0m \u001b[1;32mif\u001b[0m \u001b[0mmode\u001b[0m \u001b[1;33m==\u001b[0m \u001b[1;34m'c'\u001b[0m \u001b[1;32melse\u001b[0m \u001b[0mmode\u001b[0m\u001b[1;33m)\u001b[0m\u001b[1;33m+\u001b[0m\u001b[1;34m'b'\u001b[0m\u001b[1;33m)\u001b[0m\u001b[1;33m\u001b[0m\u001b[1;33m\u001b[0m\u001b[0m\n\u001b[0m\u001b[0;32m    226\u001b[0m \u001b[1;33m\u001b[0m\u001b[0m\n\u001b[0;32m    227\u001b[0m         \u001b[1;32mwith\u001b[0m \u001b[0mf_ctx\u001b[0m \u001b[1;32mas\u001b[0m \u001b[0mfid\u001b[0m\u001b[1;33m:\u001b[0m\u001b[1;33m\u001b[0m\u001b[1;33m\u001b[0m\u001b[0m\n",
      "\u001b[1;31mOSError\u001b[0m: [Errno 22] Invalid argument: 'mymmap'"
     ]
    }
   ],
   "source": [
    "mmap = np.memmap('mymmap', dtype='float64', mode='w+',\n",
    "                 shape=(10000, 10000))\n",
    "mmap, mmap.shape"
   ]
  },
  {
   "cell_type": "code",
   "execution_count": 20,
   "metadata": {},
   "outputs": [],
   "source": [
    "section = mmap[:5]"
   ]
  },
  {
   "cell_type": "code",
   "execution_count": 24,
   "metadata": {},
   "outputs": [
    {
     "data": {
      "text/plain": [
       "memmap([[0., 0., 0., ..., 0., 0., 0.],\n",
       "        [0., 0., 0., ..., 0., 0., 0.],\n",
       "        [0., 0., 0., ..., 0., 0., 0.],\n",
       "        [0., 0., 0., ..., 0., 0., 0.],\n",
       "        [0., 0., 0., ..., 0., 0., 0.]])"
      ]
     },
     "execution_count": 24,
     "metadata": {},
     "output_type": "execute_result"
    }
   ],
   "source": [
    "section"
   ]
  },
  {
   "cell_type": "code",
   "execution_count": 26,
   "metadata": {},
   "outputs": [],
   "source": [
    "section[:] = np.random.randn(5, 10000)\n",
    "section[:] \n",
    "mmap.flush()\n",
    "mmap\n",
    "del mmap"
   ]
  },
  {
   "cell_type": "code",
   "execution_count": 30,
   "metadata": {},
   "outputs": [
    {
     "data": {
      "text/plain": [
       "memmap([[-1.98393981,  1.066688  ,  0.12685811, ...,  1.15509776,\n",
       "          1.20660338, -0.65641293],\n",
       "        [-0.72309074, -0.60534297,  0.10686104, ..., -0.10253203,\n",
       "          0.11351388,  0.61852278],\n",
       "        [ 0.61339775,  1.08632734,  0.66619388, ..., -0.54991449,\n",
       "          1.23734735, -1.40012247],\n",
       "        ...,\n",
       "        [ 0.        ,  0.        ,  0.        , ...,  0.        ,\n",
       "          0.        ,  0.        ],\n",
       "        [ 0.        ,  0.        ,  0.        , ...,  0.        ,\n",
       "          0.        ,  0.        ],\n",
       "        [ 0.        ,  0.        ,  0.        , ...,  0.        ,\n",
       "          0.        ,  0.        ]])"
      ]
     },
     "execution_count": 30,
     "metadata": {},
     "output_type": "execute_result"
    }
   ],
   "source": [
    "mmap = np.memmap('mymmap', dtype='float64', shape=(10000, 10000))\n",
    "mmap"
   ]
  },
  {
   "cell_type": "code",
   "execution_count": 32,
   "metadata": {},
   "outputs": [
    {
     "name": "stdout",
     "output_type": "stream",
     "text": [
      "NameError: name 'mmap' is not defined\n"
     ]
    }
   ],
   "source": [
    "%xdel mmap\n",
    "# !rm mymmap"
   ]
  },
  {
   "cell_type": "markdown",
   "metadata": {},
   "source": [
    "### HDF5 and Other Array Storage Options"
   ]
  },
  {
   "cell_type": "markdown",
   "metadata": {},
   "source": [
    "## Performance Tips"
   ]
  },
  {
   "cell_type": "markdown",
   "metadata": {},
   "source": [
    "### The Importance of Contiguous Memory"
   ]
  },
  {
   "cell_type": "code",
   "execution_count": 39,
   "metadata": {},
   "outputs": [
    {
     "name": "stdout",
     "output_type": "stream",
     "text": [
      "  C_CONTIGUOUS : True\n",
      "  F_CONTIGUOUS : False\n",
      "  OWNDATA : True\n",
      "  WRITEABLE : True\n",
      "  ALIGNED : True\n",
      "  WRITEBACKIFCOPY : False\n",
      "  UPDATEIFCOPY : False\n",
      "\n",
      "  C_CONTIGUOUS : False\n",
      "  F_CONTIGUOUS : True\n",
      "  OWNDATA : True\n",
      "  WRITEABLE : True\n",
      "  ALIGNED : True\n",
      "  WRITEBACKIFCOPY : False\n",
      "  UPDATEIFCOPY : False\n",
      "\n"
     ]
    },
    {
     "data": {
      "text/plain": [
       "(True, True)"
      ]
     },
     "execution_count": 39,
     "metadata": {},
     "output_type": "execute_result"
    }
   ],
   "source": [
    "arr_c = np.ones((1000, 1000), order='C')\n",
    "arr_f = np.ones((1000, 1000), order='F')\n",
    "print(arr_c.flags)\n",
    "print(arr_f.flags)\n",
    "arr_f.flags.f_contiguous, arr_c.flags.c_contiguous"
   ]
  },
  {
   "cell_type": "code",
   "execution_count": 38,
   "metadata": {},
   "outputs": [
    {
     "name": "stdout",
     "output_type": "stream",
     "text": [
      "831 µs ± 69.3 µs per loop (mean ± std. dev. of 7 runs, 1000 loops each)\n",
      "503 µs ± 27.2 µs per loop (mean ± std. dev. of 7 runs, 1000 loops each)\n"
     ]
    }
   ],
   "source": [
    "%timeit arr_c.sum(1)\n",
    "%timeit arr_f.sum(1)"
   ]
  },
  {
   "cell_type": "code",
   "execution_count": 44,
   "metadata": {},
   "outputs": [
    {
     "data": {
      "text/plain": [
       "(  C_CONTIGUOUS : True\n",
       "   F_CONTIGUOUS : False\n",
       "   OWNDATA : True\n",
       "   WRITEABLE : True\n",
       "   ALIGNED : True\n",
       "   WRITEBACKIFCOPY : False\n",
       "   UPDATEIFCOPY : False,\n",
       " '-------',\n",
       "   C_CONTIGUOUS : False\n",
       "   F_CONTIGUOUS : True\n",
       "   OWNDATA : True\n",
       "   WRITEABLE : True\n",
       "   ALIGNED : True\n",
       "   WRITEBACKIFCOPY : False\n",
       "   UPDATEIFCOPY : False)"
      ]
     },
     "execution_count": 44,
     "metadata": {},
     "output_type": "execute_result"
    }
   ],
   "source": [
    "arr_f.copy('C').flags, '-------', arr_f.flags"
   ]
  },
  {
   "cell_type": "code",
   "execution_count": 48,
   "metadata": {},
   "outputs": [
    {
     "data": {
      "text/plain": [
       "(True,\n",
       "   C_CONTIGUOUS : False\n",
       "   F_CONTIGUOUS : False\n",
       "   OWNDATA : False\n",
       "   WRITEABLE : True\n",
       "   ALIGNED : True\n",
       "   WRITEBACKIFCOPY : False\n",
       "   UPDATEIFCOPY : False)"
      ]
     },
     "execution_count": 48,
     "metadata": {},
     "output_type": "execute_result"
    }
   ],
   "source": [
    "arr_c[:50].flags.contiguous, arr_c[:, :50].flags\n"
   ]
  },
  {
   "cell_type": "code",
   "execution_count": null,
   "metadata": {},
   "outputs": [],
   "source": [
    "%xdel arr_c\n",
    "%xdel arr_f"
   ]
  },
  {
   "cell_type": "code",
   "execution_count": null,
   "metadata": {},
   "outputs": [],
   "source": [
    "pd.options.display.max_rows = PREVIOUS_MAX_ROWS"
   ]
  }
 ],
 "metadata": {
  "kernelspec": {
   "display_name": "Python 3",
   "language": "python",
   "name": "python3"
  },
  "language_info": {
   "codemirror_mode": {
    "name": "ipython",
    "version": 3
   },
   "file_extension": ".py",
   "mimetype": "text/x-python",
   "name": "python",
   "nbconvert_exporter": "python",
   "pygments_lexer": "ipython3",
   "version": "3.8.1"
  },
  "toc-autonumbering": true
 },
 "nbformat": 4,
 "nbformat_minor": 4
}
